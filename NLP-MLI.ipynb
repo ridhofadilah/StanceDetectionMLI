{
 "cells": [
  {
   "cell_type": "markdown",
   "metadata": {},
   "source": [
    "## 1. Import Library yang dibutuhkan"
   ]
  },
  {
   "cell_type": "code",
   "execution_count": 1,
   "metadata": {},
   "outputs": [],
   "source": [
    "from Sastrawi.StopWordRemover.StopWordRemoverFactory import StopWordRemoverFactory\n",
    "from sklearn.feature_selection import mutual_info_classif\n",
    "from sklearn.ensemble import RandomForestClassifier\n",
    "from sklearn.neighbors import KNeighborsClassifier\n",
    "from sklearn.naive_bayes import MultinomialNB\n",
    "from sklearn import svm\n",
    "from nltk.util import ngrams\n",
    "from collections import Counter\n",
    "from matplotlib import pyplot as plt\n",
    "from matplotlib_venn import venn2\n",
    "import pandas as pd\n",
    "import numpy as np\n",
    "import math\n",
    "import nltk"
   ]
  },
  {
   "cell_type": "markdown",
   "metadata": {},
   "source": [
    "## 2. Import dataset"
   ]
  },
  {
   "cell_type": "code",
   "execution_count": 22,
   "metadata": {},
   "outputs": [],
   "source": [
    "data = pd.read_csv(\"data.csv\",delimiter=',')\n",
    "tweet = np.asarray(data['0'])\n",
    "label = np.asarray(data['1'])"
   ]
  },
  {
   "cell_type": "markdown",
   "metadata": {},
   "source": [
    "## 3. Import kamus alay (kamus singkatan-singkatan)"
   ]
  },
  {
   "cell_type": "code",
   "execution_count": 23,
   "metadata": {},
   "outputs": [],
   "source": [
    "kamus = pd.read_csv(\"kamus_alay.csv\",delimiter=',')\n",
    "kata_alay = np.asarray(kamus['slang'])\n",
    "formal = np.asarray(kamus['formal'])"
   ]
  },
  {
   "cell_type": "markdown",
   "metadata": {},
   "source": [
    "### 4. tokenisasi dataset, sekalian lower-in dan membuang tanda baca serta angka"
   ]
  },
  {
   "cell_type": "code",
   "execution_count": 24,
   "metadata": {},
   "outputs": [],
   "source": [
    "data = []\n",
    "for i in tweet:\n",
    "    kalimat = nltk.word_tokenize(i)\n",
    "    kalimat = [k.lower() for k in kalimat if k.isalpha()]\n",
    "    data.append(kalimat)"
   ]
  },
  {
   "cell_type": "markdown",
   "metadata": {},
   "source": [
    "### 5. normalisasi kata pada dataset dengan menggunakan kamus alay"
   ]
  },
  {
   "cell_type": "code",
   "execution_count": 25,
   "metadata": {},
   "outputs": [],
   "source": [
    "for twit in range(len(data)):\n",
    "    for kata in range(len(data[twit])):\n",
    "        if data[twit][kata] in kata_alay:\n",
    "            idxKataAlay = list(kata_alay).index(data[twit][kata])\n",
    "            data[twit][kata] = formal[idxKataAlay]    "
   ]
  },
  {
   "cell_type": "markdown",
   "metadata": {},
   "source": [
    "## 6. Import stopwords bahasa indonesia dan menggunakan unigram"
   ]
  },
  {
   "cell_type": "code",
   "execution_count": 26,
   "metadata": {},
   "outputs": [],
   "source": [
    "factory = StopWordRemoverFactory()\n",
    "stopwords = factory.get_stop_words()\n",
    "tempdata = []\n",
    "for twit in range(len(data)):\n",
    "    temp = []\n",
    "    for kata in range(len(data[twit])):\n",
    "        if data[twit][kata] not in stopwords:\n",
    "            temp.append(data[twit][kata])\n",
    "    tempdata.append(temp)\n",
    "data = tempdata"
   ]
  },
  {
   "cell_type": "markdown",
   "metadata": {},
   "source": [
    "## 7. Jika ingin menggunakan Bigram, silakan jalankan code program dibawah ini. Jika tidak lewati langkah ini dan jalankan yang mencari kata-kata unik"
   ]
  },
  {
   "cell_type": "code",
   "execution_count": 27,
   "metadata": {},
   "outputs": [],
   "source": [
    "bigram = []\n",
    "for twit in data:\n",
    "    bigram.append(list(ngrams(twit,2)))\n",
    "data = bigram"
   ]
  },
  {
   "cell_type": "markdown",
   "metadata": {},
   "source": [
    "## 8. mencari kata-kata unik"
   ]
  },
  {
   "cell_type": "code",
   "execution_count": 28,
   "metadata": {},
   "outputs": [],
   "source": [
    "kataunik = []\n",
    "for twit in data:\n",
    "    for kata in twit:\n",
    "        if kata not in kataunik:\n",
    "            kataunik.append(kata)"
   ]
  },
  {
   "cell_type": "markdown",
   "metadata": {},
   "source": [
    "## 9. membuat vector dari setiap kata dengan menggunakan tf-idf"
   ]
  },
  {
   "cell_type": "code",
   "execution_count": 29,
   "metadata": {},
   "outputs": [],
   "source": [
    "idf = []\n",
    "for i in range(len(kataunik)):\n",
    "    counter = 0\n",
    "    for j in data:\n",
    "        if kataunik[i] in j:\n",
    "            counter+= 1\n",
    "    idf.append(counter)\n",
    "    \n",
    "vectorKata = []\n",
    "for i in range(len(data)):\n",
    "    vector = []\n",
    "    for j in range(len(kataunik)):\n",
    "        if (kataunik[j] in data[i]):\n",
    "            vector.append(data[i].count(kataunik[j]) * (math.log(len(data)/idf[j]))) #rumus tf-idf\n",
    "        else:\n",
    "            vector.append(0)\n",
    "    vectorKata.append(vector)"
   ]
  },
  {
   "cell_type": "markdown",
   "metadata": {},
   "source": [
    "## 10. mengubah menjadi numpy array agar lebih mudah"
   ]
  },
  {
   "cell_type": "code",
   "execution_count": 30,
   "metadata": {},
   "outputs": [],
   "source": [
    "vectorKata = np.asarray(vectorKata)\n",
    "label = np.asarray(label)"
   ]
  },
  {
   "cell_type": "markdown",
   "metadata": {},
   "source": [
    "## 11. klasifikasi"
   ]
  },
  {
   "cell_type": "code",
   "execution_count": 42,
   "metadata": {},
   "outputs": [
    {
     "name": "stdout",
     "output_type": "stream",
     "text": [
      "akurasi : 91.93122853538149\n",
      "presisi : 87.7661333645211\n",
      "recall  : 99.33645389847436\n",
      "f1score : 93.1935425196164\n"
     ]
    }
   ],
   "source": [
    "fold = 23\n",
    "bagian = len(data)//fold\n",
    "\n",
    "akurasi,presisi,recall = 0,0,0\n",
    "for j in range(fold):\n",
    "    datatest = vectorKata[j:(j+1)*bagian]\n",
    "    labeltest = label[j:(j+1)*bagian]\n",
    "    if (j==0):\n",
    "        datatrain = vectorKata[bagian:len(data)]\n",
    "        labeltrain = label[bagian:len(data)]\n",
    "    elif (j==(fold-1)):\n",
    "        datatrain = vectorKata[:bagian*j]\n",
    "        labeltrain = label[:bagian*j]\n",
    "    else:\n",
    "        datatrain = np.concatenate((vectorKata[:bagian*j],vectorKata[bagian*(j+1):]),axis=0)\n",
    "        labeltrain = np.concatenate((label[:bagian*j],label[bagian*(j+1):]),axis=0)\n",
    "    \n",
    "#     naive bayes\n",
    "    clf = MultinomialNB()\n",
    "    \n",
    "#     random forest\n",
    "#     clf = RandomForestClassifier(n_estimators=1000,max_depth=2, random_state=0)\n",
    "\n",
    "#     SVM\n",
    "#     clf = svm.SVC(kernel=\"linear\")\n",
    "\n",
    "#     KNN\n",
    "#     clf = KNeighborsClassifier(n_neighbors=1, n_jobs=-1)\n",
    "\n",
    "    \n",
    "    clf.fit(datatrain, labeltrain)\n",
    "    pred = clf.predict(datatest)\n",
    "    totalbener,TP,FP,FN = 0,0,0,0\n",
    "    for i in range(len(datatest)):\n",
    "        if (pred[i]==labeltest[i]):\n",
    "            if (pred[i] == 1):\n",
    "                TP += 1\n",
    "            totalbener += 1\n",
    "        elif (pred[i] == 0 and labeltest[i] == 1):\n",
    "            FN += 1\n",
    "        elif (pred[i] == 1 and labeltest[i] == 0):\n",
    "            FP += 1\n",
    "    akurasi += ((totalbener/len(datatest))*100)\n",
    "    presisi += ((TP/(TP+FP))*100)\n",
    "    recall += ((TP/(TP+FN))*100)\n",
    "akurasi = akurasi/fold\n",
    "presisi = presisi/fold\n",
    "recall = recall/fold\n",
    "f1score = (2*recall*presisi)/(recall+presisi)\n",
    "print (\"akurasi :\",akurasi)\n",
    "print (\"presisi :\",presisi)\n",
    "print (\"recall  :\",recall)\n",
    "print ('f1score :',f1score)"
   ]
  },
  {
   "cell_type": "markdown",
   "metadata": {},
   "source": [
    "# Hasil Running Unigram - Naive Bayes\n",
    "\n",
    "#### akurasi : 93.63%\n",
    "#### presisi : 90.24%\n",
    "#### recall  : 98.80%\n",
    "#### f1score : 94.33%"
   ]
  },
  {
   "cell_type": "markdown",
   "metadata": {},
   "source": [
    "# Hasil Running Bigram - Naive Bayes\n",
    "#### akurasi : 91.93%\n",
    "#### presisi : 87.77%\n",
    "#### recall  : 99.34%\n",
    "#### f1score : 93.19%"
   ]
  },
  {
   "cell_type": "markdown",
   "metadata": {},
   "source": [
    "## Visualisasi"
   ]
  },
  {
   "cell_type": "code",
   "execution_count": 31,
   "metadata": {},
   "outputs": [],
   "source": [
    "kumpulan_kata = {0: [], 1: []}\n",
    "for i in range(len(data)):\n",
    "    kumpulan_kata[label[i]] += data[i]"
   ]
  },
  {
   "cell_type": "code",
   "execution_count": 32,
   "metadata": {},
   "outputs": [
    {
     "data": {
      "image/png": "[encoded data removed]",
      "text/plain": [
       "<Figure size 432x288 with 1 Axes>"
      ]
     },
     "metadata": {},
     "output_type": "display_data"
    }
   ],
   "source": [
    "for i in kumpulan_kata:\n",
    "    kumpulan_kata[i] = set(kumpulan_kata[i])\n",
    "# persebaran fitur pada model bigram\n",
    "venn2([kumpulan_kata[1], kumpulan_kata[0]], ('Positif', 'Negatif'))\n",
    "plt.show()"
   ]
  }
 ],
 "metadata": {
  "kernelspec": {
   "display_name": "Python 3",
   "language": "python",
   "name": "python3"
  },
  "language_info": {
   "codemirror_mode": {
    "name": "ipython",
    "version": 3
   },
   "file_extension": ".py",
   "mimetype": "text/x-python",
   "name": "python",
   "nbconvert_exporter": "python",
   "pygments_lexer": "ipython3",
   "version": "3.6.5"
  }
 },
 "nbformat": 4,
 "nbformat_minor": 2
}
